{
  "nbformat": 4,
  "nbformat_minor": 0,
  "metadata": {
    "colab": {
      "name": "MNIST.ipynb",
      "provenance": [],
      "collapsed_sections": [],
      "include_colab_link": true
    },
    "kernelspec": {
      "name": "python3",
      "display_name": "Python 3"
    },
    "accelerator": "GPU"
  },
  "cells": [
    {
      "cell_type": "markdown",
      "metadata": {
        "id": "view-in-github",
        "colab_type": "text"
      },
      "source": [
        "<a href=\"https://colab.research.google.com/github/AdhirajChaddha/MNIST-Learning/blob/master/MNIST.ipynb\" target=\"_parent\"><img src=\"https://colab.research.google.com/assets/colab-badge.svg\" alt=\"Open In Colab\"/></a>"
      ]
    },
    {
      "cell_type": "code",
      "metadata": {
        "id": "zXXQJE_2HwVk",
        "colab_type": "code",
        "outputId": "f5cabeef-bc40-4edd-b247-ea760224e6ad",
        "colab": {
          "base_uri": "https://localhost:8080/",
          "height": 34
        }
      },
      "source": [
        "from sklearn.datasets import fetch_openml\n",
        "mnist = fetch_openml('mnist_784', version=1)\n",
        "mnist.keys()"
      ],
      "execution_count": 1,
      "outputs": [
        {
          "output_type": "execute_result",
          "data": {
            "text/plain": [
              "dict_keys(['data', 'target', 'feature_names', 'DESCR', 'details', 'categories', 'url'])"
            ]
          },
          "metadata": {
            "tags": []
          },
          "execution_count": 1
        }
      ]
    },
    {
      "cell_type": "code",
      "metadata": {
        "id": "j7-R0C68ILH5",
        "colab_type": "code",
        "outputId": "6cd560e9-30aa-485b-af11-603f5fe45ba8",
        "colab": {
          "base_uri": "https://localhost:8080/",
          "height": 51
        }
      },
      "source": [
        "X, y = mnist['data'], mnist['target']\n",
        "print(X.shape)\n",
        "print(y.shape)"
      ],
      "execution_count": 2,
      "outputs": [
        {
          "output_type": "stream",
          "text": [
            "(70000, 784)\n",
            "(70000,)\n"
          ],
          "name": "stdout"
        }
      ]
    },
    {
      "cell_type": "code",
      "metadata": {
        "id": "-EGVcFKSNRDS",
        "colab_type": "code",
        "outputId": "6715d24c-6be4-4a34-951b-3eb47a9e5bfd",
        "colab": {
          "base_uri": "https://localhost:8080/",
          "height": 248
        }
      },
      "source": [
        "%matplotlib inline\n",
        "import matplotlib as mpl\n",
        "import matplotlib.pyplot as plt\n",
        "\n",
        "digit = X[0]\n",
        "digit = digit.reshape(28, 28)\n",
        "\n",
        "plt.imshow(digit, cmap='binary')\n",
        "plt.axis(\"off\")\n",
        "plt.show()"
      ],
      "execution_count": 3,
      "outputs": [
        {
          "output_type": "display_data",
          "data": {
            "image/png": "[encoded data removed]",
            "text/plain": [
              "<Figure size 432x288 with 1 Axes>"
            ]
          },
          "metadata": {
            "tags": []
          }
        }
      ]
    },
    {
      "cell_type": "code",
      "metadata": {
        "id": "3tgsI761Og4i",
        "colab_type": "code",
        "outputId": "7fabedce-7ddc-4989-d71c-027f6d80941a",
        "colab": {
          "base_uri": "https://localhost:8080/",
          "height": 34
        }
      },
      "source": [
        "y[0]"
      ],
      "execution_count": 4,
      "outputs": [
        {
          "output_type": "execute_result",
          "data": {
            "text/plain": [
              "'5'"
            ]
          },
          "metadata": {
            "tags": []
          },
          "execution_count": 4
        }
      ]
    },
    {
      "cell_type": "markdown",
      "metadata": {
        "id": "vSGpccSwOrR8",
        "colab_type": "text"
      },
      "source": [
        "Lets start by crating a binary classifier that distinguishes between a 5 and not 5"
      ]
    },
    {
      "cell_type": "code",
      "metadata": {
        "id": "OFx8afD5OjPQ",
        "colab_type": "code",
        "colab": {}
      },
      "source": [
        "X_train, X_test, y_train, y_test = X[:60000], X[60000:], y[:60000], y[60000:]"
      ],
      "execution_count": 0,
      "outputs": []
    },
    {
      "cell_type": "code",
      "metadata": {
        "id": "YZ-Jo0Z7PDG9",
        "colab_type": "code",
        "outputId": "a998ca10-d0f0-4ddb-f427-e3f05d75f75a",
        "colab": {
          "base_uri": "https://localhost:8080/",
          "height": 34
        }
      },
      "source": [
        "# Lets create a vector that is true for all 5s and \n",
        "# false for all else\n",
        "y_train_5 = y_train == '5'\n",
        "print(y_train_5[:10])\n",
        "y_test_5 = (y_test == '5')"
      ],
      "execution_count": 6,
      "outputs": [
        {
          "output_type": "stream",
          "text": [
            "[ True False False False False False False False False False]\n"
          ],
          "name": "stdout"
        }
      ]
    },
    {
      "cell_type": "code",
      "metadata": {
        "id": "noGL2I_FPQ6Y",
        "colab_type": "code",
        "outputId": "131468fa-96cb-4ca1-ac81-90cc1eb98f82",
        "colab": {
          "base_uri": "https://localhost:8080/",
          "height": 119
        }
      },
      "source": [
        "# Lets then start by training a SGDClassifier\n",
        "from sklearn.linear_model import SGDClassifier\n",
        "\n",
        "sgd_clf = SGDClassifier(random_state=42)\n",
        "sgd_clf.fit(X_train, y_train_5)"
      ],
      "execution_count": 7,
      "outputs": [
        {
          "output_type": "execute_result",
          "data": {
            "text/plain": [
              "SGDClassifier(alpha=0.0001, average=False, class_weight=None,\n",
              "              early_stopping=False, epsilon=0.1, eta0=0.0, fit_intercept=True,\n",
              "              l1_ratio=0.15, learning_rate='optimal', loss='hinge',\n",
              "              max_iter=1000, n_iter_no_change=5, n_jobs=None, penalty='l2',\n",
              "              power_t=0.5, random_state=42, shuffle=True, tol=0.001,\n",
              "              validation_fraction=0.1, verbose=0, warm_start=False)"
            ]
          },
          "metadata": {
            "tags": []
          },
          "execution_count": 7
        }
      ]
    },
    {
      "cell_type": "code",
      "metadata": {
        "id": "bpOw31nAQ-D-",
        "colab_type": "code",
        "outputId": "c45a8688-ed47-4b23-f9d6-fd5c65d2e80f",
        "colab": {
          "base_uri": "https://localhost:8080/",
          "height": 34
        }
      },
      "source": [
        "from sklearn.model_selection import cross_val_score\n",
        "cross_val_score(sgd_clf, X_train, y_train_5, cv=3, scoring='accuracy')"
      ],
      "execution_count": 8,
      "outputs": [
        {
          "output_type": "execute_result",
          "data": {
            "text/plain": [
              "array([0.95035, 0.96035, 0.9604 ])"
            ]
          },
          "metadata": {
            "tags": []
          },
          "execution_count": 8
        }
      ]
    },
    {
      "cell_type": "code",
      "metadata": {
        "id": "LOBfJcaLwZ53",
        "colab_type": "code",
        "outputId": "95b23990-f10a-4659-ca2a-884d94f58864",
        "colab": {
          "base_uri": "https://localhost:8080/",
          "height": 34
        }
      },
      "source": [
        "# This calssifier seems like a good one as ait achieves\n",
        "# over 95% accuracy in all 3 validation folds. But, lets now\n",
        "# create a classifier that classifies everything as false\n",
        "\n",
        "from sklearn.base import BaseEstimator\n",
        "import numpy as np\n",
        "\n",
        "class Never5Classifier(BaseEstimator):\n",
        "  def fit(self, X, y=None):\n",
        "    pass\n",
        "  def predict(self, X):\n",
        "    return np.zeros((len(X), 1), dtype=bool)\n",
        "\n",
        "never5 = Never5Classifier()\n",
        "cross_val_score(never5, X_train, y_train_5, cv=3, scoring='accuracy')"
      ],
      "execution_count": 9,
      "outputs": [
        {
          "output_type": "execute_result",
          "data": {
            "text/plain": [
              "array([0.91125, 0.90855, 0.90915])"
            ]
          },
          "metadata": {
            "tags": []
          },
          "execution_count": 9
        }
      ]
    },
    {
      "cell_type": "code",
      "metadata": {
        "id": "wKBsVow0xrEy",
        "colab_type": "code",
        "colab": {}
      },
      "source": [
        "# The Classifier that returns none for all also have around\n",
        "# 90% accuracy. hence we need a better measure, which is \n",
        "# where the confustion matrix comes handy\n",
        "\n",
        "# For the confusion matrix, we need all the predictions our\n",
        "# model made on teh test folds\n",
        "from sklearn.model_selection import cross_val_predict\n",
        "\n",
        "y_train_pred = cross_val_predict(sgd_clf, X_train, y_train_5, cv=3)"
      ],
      "execution_count": 0,
      "outputs": []
    },
    {
      "cell_type": "code",
      "metadata": {
        "id": "o-YgPs2F0Iwq",
        "colab_type": "code",
        "outputId": "22e0f773-9636-4512-f55a-e37972bab3db",
        "colab": {
          "base_uri": "https://localhost:8080/",
          "height": 51
        }
      },
      "source": [
        "from sklearn.metrics import confusion_matrix\n",
        "confusion_matrix(y_train_5, y_train_pred)"
      ],
      "execution_count": 11,
      "outputs": [
        {
          "output_type": "execute_result",
          "data": {
            "text/plain": [
              "array([[53892,   687],\n",
              "       [ 1891,  3530]])"
            ]
          },
          "metadata": {
            "tags": []
          },
          "execution_count": 11
        }
      ]
    },
    {
      "cell_type": "code",
      "metadata": {
        "id": "DIZVNNov0buM",
        "colab_type": "code",
        "colab": {}
      },
      "source": [
        "# The above matrix shows that 53892 of the not 5s were \n",
        "# correctly classified as not 5(True Negative - TN), while 1891 \n",
        "# we wrongly classified as 5 (flase positive - FP). \n",
        "# 687 5s were identitfied as not 5(False Negative - FN) and \n",
        "# 3530 5s were identified as 5(True Positive - TP)\n",
        "\n",
        "# Two Interesting metrics to look at would be the precision\n",
        "# and recall of the classifier\n",
        "\n",
        "# precision = TP/(TP+FP) - how accurate are the +ve predictions\n",
        "# recall = TP/(TP+FN) - ratio of +ve instances correctly detected"
      ],
      "execution_count": 0,
      "outputs": []
    },
    {
      "cell_type": "code",
      "metadata": {
        "id": "tvYjSnVr1oeJ",
        "colab_type": "code",
        "outputId": "e5542d9c-bff8-4f4d-8ee7-e4974807dde5",
        "colab": {
          "base_uri": "https://localhost:8080/",
          "height": 51
        }
      },
      "source": [
        "from sklearn.metrics import precision_score, recall_score\n",
        "print(\"Precision is: \", precision_score(y_train_5, y_train_pred))\n",
        "print(\"Recall is: \", recall_score(y_train_5, y_train_pred))"
      ],
      "execution_count": 13,
      "outputs": [
        {
          "output_type": "stream",
          "text": [
            "Precision is:  0.8370879772350012\n",
            "Recall is:  0.6511713705958311\n"
          ],
          "name": "stdout"
        }
      ]
    },
    {
      "cell_type": "code",
      "metadata": {
        "id": "ecLeKY0g17ZU",
        "colab_type": "code",
        "colab": {}
      },
      "source": [
        "# This shows that our classifier is not as good as we thaught\n",
        "# It only detects 65% of the 5s and when it says something is\n",
        "# a 5 it is only correct 83% of the time. \n",
        "\n",
        "# Lets now look at the precsion recall curve of the classifier\n",
        "# for this we need the decision scores and not the predictions\n",
        "# as the precision depends on the decision score \n",
        "# (higher threshold would mean high precision as very high decsion)\n",
        "# score required\n",
        "\n",
        "y_scores = cross_val_predict(sgd_clf, X_train, y_train_5, cv=3, method=\"decision_function\")\n",
        "\n",
        "from sklearn.metrics import precision_recall_curve\n",
        "precisions, recalls, thresholds = precision_recall_curve(y_train_5, y_scores)"
      ],
      "execution_count": 0,
      "outputs": []
    },
    {
      "cell_type": "code",
      "metadata": {
        "id": "iiqpTsiX3NJ8",
        "colab_type": "code",
        "outputId": "d0e7578b-e4d8-4c1b-fbce-d2bd453a5bf6",
        "colab": {
          "base_uri": "https://localhost:8080/",
          "height": 279
        }
      },
      "source": [
        "def plot_precision_recall_vs_threshold(precision, recall, threshold):\n",
        "  plt.plot(threshold, precision[:-1], \"b--\", label=\"Precision\")\n",
        "  plt.plot(threshold, recall[:-1], \"g-\", label=\"Recall\")\n",
        "  plt.legend()\n",
        "  plt.grid()\n",
        "  plt.xlabel('Thresholds')\n",
        "  plt.ylabel('Precision / Recall')\n",
        "  plt.show()\n",
        "\n",
        "plot_precision_recall_vs_threshold(precisions, recalls, thresholds)"
      ],
      "execution_count": 15,
      "outputs": [
        {
          "output_type": "display_data",
          "data": {
            "image/png": "[encoded data removed]",
            "text/plain": [
              "<Figure size 432x288 with 1 Axes>"
            ]
          },
          "metadata": {
            "tags": []
          }
        }
      ]
    },
    {
      "cell_type": "code",
      "metadata": {
        "id": "c7CJbcqK4t4z",
        "colab_type": "code",
        "outputId": "5e88b813-e7db-45fd-e180-62367656b070",
        "colab": {
          "base_uri": "https://localhost:8080/",
          "height": 279
        }
      },
      "source": [
        "def plot_precision_vs_recall(precision, recall):\n",
        "  plt.plot(recall, precision)\n",
        "  plt.grid()\n",
        "  plt.xlabel('Recall')\n",
        "  plt.ylabel('Precision')\n",
        "  plt.show()\n",
        "\n",
        "plot_precision_vs_recall(precisions, recalls)"
      ],
      "execution_count": 16,
      "outputs": [
        {
          "output_type": "display_data",
          "data": {
            "image/png": "[encoded data removed]",
            "text/plain": [
              "<Figure size 432x288 with 1 Axes>"
            ]
          },
          "metadata": {
            "tags": []
          }
        }
      ]
    },
    {
      "cell_type": "code",
      "metadata": {
        "id": "eHu4DjHj5B2d",
        "colab_type": "code",
        "outputId": "336da4ac-ce22-47d5-eece-beaa9d341fb4",
        "colab": {
          "base_uri": "https://localhost:8080/",
          "height": 51
        }
      },
      "source": [
        "# The above curves show that to the best ballence is around\n",
        "# 85% precision, 65% recall. altough one can get any precision\n",
        "# by just increasing the threshold enough. For instance, if we\n",
        "# want 90% precision\n",
        "threshold_90 = thresholds[np.argmax(precisions >= 0.90)]\n",
        "y_train_pred_90 = (y_scores >= threshold_90)\n",
        "\n",
        "print(\"Precision is: \", precision_score(y_train_5, y_train_pred_90))\n",
        "print(\"Recall is: \", recall_score(y_train_5, y_train_pred_90))"
      ],
      "execution_count": 17,
      "outputs": [
        {
          "output_type": "stream",
          "text": [
            "Precision is:  0.9000345901072293\n",
            "Recall is:  0.4799852425751706\n"
          ],
          "name": "stdout"
        }
      ]
    },
    {
      "cell_type": "code",
      "metadata": {
        "id": "_p1aFQIk6S0V",
        "colab_type": "code",
        "outputId": "9ee99a0e-a2a3-41ea-c1df-7a71e1fa41b1",
        "colab": {
          "base_uri": "https://localhost:8080/",
          "height": 279
        }
      },
      "source": [
        "# Another good measuring charcteristic is the ROC curve. it \n",
        "# plots the true positive rate (TPR) (a.k.a. recall) vs the \n",
        "# false positive rate (FPR)\n",
        "\n",
        "from sklearn.metrics import roc_curve\n",
        "fpr, tpr, thresholds = roc_curve(y_train_5, y_scores)\n",
        "\n",
        "def plot_roc_curve(fpr, trp, label=None):\n",
        "  plt.plot(fpr, tpr, label=label)\n",
        "  plt.plot([0,1], [0,1], 'k--') # diagonal\n",
        "  plt.grid()\n",
        "  plt.xlabel('False positive Rate (FPR)')\n",
        "  plt.ylabel('True Positive Rate (Recall)')\n",
        "\n",
        "plot_roc_curve(fpr, tpr)\n",
        "plt.show()"
      ],
      "execution_count": 18,
      "outputs": [
        {
          "output_type": "display_data",
          "data": {
            "image/png": "[encoded data removed]",
            "text/plain": [
              "<Figure size 432x288 with 1 Axes>"
            ]
          },
          "metadata": {
            "tags": []
          }
        }
      ]
    },
    {
      "cell_type": "code",
      "metadata": {
        "id": "QFDANhso70DW",
        "colab_type": "code",
        "outputId": "8bd7db64-ad1c-4e80-8717-8e8debd8762e",
        "colab": {
          "base_uri": "https://localhost:8080/",
          "height": 34
        }
      },
      "source": [
        "# The area under the ROC curve is a good measure of the \n",
        "# the performance of the classifier as a good one will\n",
        "# have an area close to 1, while a bad one will have an\n",
        "# area close to 0.5\n",
        "from sklearn.metrics import roc_auc_score\n",
        "roc_auc_score(y_train_5, y_scores)"
      ],
      "execution_count": 19,
      "outputs": [
        {
          "output_type": "execute_result",
          "data": {
            "text/plain": [
              "0.9604938554008616"
            ]
          },
          "metadata": {
            "tags": []
          },
          "execution_count": 19
        }
      ]
    },
    {
      "cell_type": "code",
      "metadata": {
        "id": "pgDd-l-U8gnc",
        "colab_type": "code",
        "outputId": "2476d3db-034b-4ca6-adb0-68ebb1bb25d3",
        "colab": {
          "base_uri": "https://localhost:8080/",
          "height": 139
        }
      },
      "source": [
        "# lets compare the ROC score of the SGD classifier with a\n",
        "# random forest classifier.\n",
        "from sklearn.ensemble import RandomForestClassifier\n",
        "\n",
        "rf_clf = RandomForestClassifier(random_state=11)\n",
        "y_probs_forest = cross_val_predict(rf_clf, X_train, y_train_5, cv=3, method='predict_proba')"
      ],
      "execution_count": 20,
      "outputs": [
        {
          "output_type": "stream",
          "text": [
            "/usr/local/lib/python3.6/dist-packages/sklearn/ensemble/forest.py:245: FutureWarning: The default value of n_estimators will change from 10 in version 0.20 to 100 in 0.22.\n",
            "  \"10 in version 0.20 to 100 in 0.22.\", FutureWarning)\n",
            "/usr/local/lib/python3.6/dist-packages/sklearn/ensemble/forest.py:245: FutureWarning: The default value of n_estimators will change from 10 in version 0.20 to 100 in 0.22.\n",
            "  \"10 in version 0.20 to 100 in 0.22.\", FutureWarning)\n",
            "/usr/local/lib/python3.6/dist-packages/sklearn/ensemble/forest.py:245: FutureWarning: The default value of n_estimators will change from 10 in version 0.20 to 100 in 0.22.\n",
            "  \"10 in version 0.20 to 100 in 0.22.\", FutureWarning)\n"
          ],
          "name": "stderr"
        }
      ]
    },
    {
      "cell_type": "code",
      "metadata": {
        "id": "N49qnh619Op2",
        "colab_type": "code",
        "colab": {}
      },
      "source": [
        "y_scores_forest = y_probs_forest[:, 1]\n",
        "fpr_forest, tpr_forest, thresholds_forest = roc_curve(y_train_5, y_scores_forest)"
      ],
      "execution_count": 0,
      "outputs": []
    },
    {
      "cell_type": "code",
      "metadata": {
        "id": "r8whZE2V9qly",
        "colab_type": "code",
        "outputId": "b6cd134a-bbf6-4340-ceee-67012933c286",
        "colab": {
          "base_uri": "https://localhost:8080/",
          "height": 34
        }
      },
      "source": [
        "print(\"ROC AUC is: \",roc_auc_score(y_train_5, y_scores_forest))"
      ],
      "execution_count": 22,
      "outputs": [
        {
          "output_type": "stream",
          "text": [
            "ROC AUC is:  0.9928336035153543\n"
          ],
          "name": "stdout"
        }
      ]
    },
    {
      "cell_type": "code",
      "metadata": {
        "id": "hIczj4cK-B_H",
        "colab_type": "code",
        "colab": {}
      },
      "source": [
        "# This shows that the random forest is a much better\n",
        "# Now lest create a multi class classfier"
      ],
      "execution_count": 0,
      "outputs": []
    },
    {
      "cell_type": "code",
      "metadata": {
        "id": "VMqoWXnk_5jJ",
        "colab_type": "code",
        "outputId": "5a74a536-8972-4030-a25a-d17550093e10",
        "colab": {
          "base_uri": "https://localhost:8080/",
          "height": 71
        }
      },
      "source": [
        "from sklearn.svm import SVC\n",
        "svm_clf = SVC()\n",
        "svm_clf.fit(X_train, y_train)\n",
        "svm_clf.predict([X_train[0]])"
      ],
      "execution_count": 0,
      "outputs": [
        {
          "output_type": "stream",
          "text": [
            "/usr/local/lib/python3.6/dist-packages/sklearn/svm/base.py:193: FutureWarning: The default value of gamma will change from 'auto' to 'scale' in version 0.22 to account better for unscaled features. Set gamma explicitly to 'auto' or 'scale' to avoid this warning.\n",
            "  \"avoid this warning.\", FutureWarning)\n"
          ],
          "name": "stderr"
        }
      ]
    },
    {
      "cell_type": "code",
      "metadata": {
        "id": "xOy37nqNAkQs",
        "colab_type": "code",
        "colab": {}
      },
      "source": [
        ""
      ],
      "execution_count": 0,
      "outputs": []
    }
  ]
}